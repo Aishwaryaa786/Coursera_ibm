{
 "cells": [
  {
   "cell_type": "markdown",
   "id": "e8fe6942",
   "metadata": {},
   "source": [
    "# Data Science its tools and ecosystem"
   ]
  },
  {
   "cell_type": "raw",
   "id": "873c9d79",
   "metadata": {},
   "source": [
    "In this notebook, Data Science Tools and Ecosystem are summarized.\n",
    "\n"
   ]
  },
  {
   "cell_type": "markdown",
   "id": "f97fc905",
   "metadata": {},
   "source": [
    "Some of the popular languages that Data Scientists use are:\n",
    "1.Data science languages are as follows :\n",
    "    1. SQL\n",
    "    2. PYTHON\n",
    "    3.R\n",
    "    4.JAVA\n",
    "    5.C++"
   ]
  },
  {
   "cell_type": "markdown",
   "id": "34f34017",
   "metadata": {},
   "source": [
    "2.Libraries of datascience are as follows:\n",
    "    1. Matplotlib\n",
    "    2. Numpy\n",
    "    3. Seaborn\n",
    "    4.Scikit learn\n",
    "    5. Tensor flow\n",
    "    6.SCIpy\n",
    "    7. pytorch\n",
    "    8.keras\n",
    "    "
   ]
  },
  {
   "cell_type": "markdown",
   "id": "3086d109",
   "metadata": {},
   "source": [
    "\n",
    "3. Data Science tools :\n",
    "    1.SAS\n",
    "    2.Apache Hadoop\n",
    "    3. Tensor Flow\n",
    "    "
   ]
  },
  {
   "cell_type": "markdown",
   "id": "64cba970",
   "metadata": {},
   "source": [
    "### introducing arithmetic expression"
   ]
  },
  {
   "cell_type": "code",
   "execution_count": 19,
   "id": "920b33e9",
   "metadata": {},
   "outputs": [
    {
     "data": {
      "text/plain": [
       "17"
      ]
     },
     "execution_count": 19,
     "metadata": {},
     "output_type": "execute_result"
    }
   ],
   "source": [
    "# Below are a few examples of evaluating arithmetic expressions in Python.\n",
    "# This a simple arithmetic expression to mutiply then add integers\n",
    "(3*4)+5"
   ]
  },
  {
   "cell_type": "code",
   "execution_count": 20,
   "id": "90fab68a",
   "metadata": {},
   "outputs": [
    {
     "data": {
      "text/plain": [
       "3.3333333333333335"
      ]
     },
     "execution_count": 20,
     "metadata": {},
     "output_type": "execute_result"
    }
   ],
   "source": [
    "# code cell to convert minutes to hours\n",
    "# here i am convereting 200 min to hours\n",
    "200/60"
   ]
  },
  {
   "cell_type": "markdown",
   "id": "40add2e9",
   "metadata": {},
   "source": [
    "__Objectives__\n",
    "*list popular languages for datascience \n",
    "*list popular tools for data science \n",
    "*list different arithmetics operations for data science\n",
    "*how to provide comments in the cell"
   ]
  },
  {
   "cell_type": "markdown",
   "id": "982945d1",
   "metadata": {},
   "source": [
    "#### Author\n",
    "Aishwarya Kumar"
   ]
  },
  {
   "cell_type": "code",
   "execution_count": null,
   "id": "b1ba11aa",
   "metadata": {},
   "outputs": [],
   "source": []
  }
 ],
 "metadata": {
  "kernelspec": {
   "display_name": "Python 3 (ipykernel)",
   "language": "python",
   "name": "python3"
  },
  "language_info": {
   "codemirror_mode": {
    "name": "ipython",
    "version": 3
   },
   "file_extension": ".py",
   "mimetype": "text/x-python",
   "name": "python",
   "nbconvert_exporter": "python",
   "pygments_lexer": "ipython3",
   "version": "3.9.13"
  }
 },
 "nbformat": 4,
 "nbformat_minor": 5
}
